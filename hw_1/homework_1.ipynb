{
 "cells": [
  {
   "cell_type": "code",
   "execution_count": 5,
   "id": "3bc1e5ee",
   "metadata": {},
   "outputs": [],
   "source": [
    "#Задача 1\n",
    "def share_bread(N, K):\n",
    "    # your code here\n",
    "    x = K//N\n",
    "    y = K%N\n",
    "    return x, y\n",
    "\n",
    "# если в функции всё верно, то после выполнения этой строчки, не должно выскакивать ошибок\n",
    "assert share_bread(N=3, K=14) == (4, 2)"
   ]
  },
  {
   "cell_type": "code",
   "execution_count": 38,
   "id": "6c203c0f",
   "metadata": {},
   "outputs": [
    {
     "name": "stdout",
     "output_type": "stream",
     "text": [
      "YOU SHALL NOT PASS\n"
     ]
    }
   ],
   "source": [
    "#Задача 2\n",
    "#если его номер кратен 4, но не кратен 100, а также если он кратен 400\n",
    "def leap_year(year):\n",
    "    # your code here\n",
    "    text_result = 'YOU SHALL NOT PASS'\n",
    "    if year % 100 == 0:\n",
    "        if year%400 == 0: text_result = 'YOU SHALL PASS'\n",
    "    elif year % 4 == 0: text_result = 'YOU SHALL PASS'\n",
    "    return text_result\n",
    "\n",
    "assert leap_year(5) == 'YOU SHALL NOT PASS'"
   ]
  },
  {
   "cell_type": "code",
   "execution_count": 46,
   "id": "dbe0c15c",
   "metadata": {},
   "outputs": [],
   "source": [
    "#Задача 3\n",
    "from math import sqrt\n",
    "def amulet_area(a, b, c):\n",
    "    # your code here\n",
    "    p = (a+b+c)/2\n",
    "    S = sqrt(p*(p-a)*(p-b)*(p-c))\n",
    "    return S\n",
    "\n",
    "assert amulet_area(3, 4, 5) == 6"
   ]
  },
  {
   "cell_type": "code",
   "execution_count": 102,
   "id": "15f6470c",
   "metadata": {},
   "outputs": [
    {
     "name": "stdout",
     "output_type": "stream",
     "text": [
      "25.69046515733026\n",
      "68\n",
      "0.9388865297643383\n",
      "0.06111347023566175\n"
     ]
    }
   ],
   "source": [
    "#Задача 4\n",
    "import numpy\n",
    "from numpy import dot\n",
    "from numpy.linalg import norm\n",
    "\n",
    "def cal_euclidean(a, b):\n",
    "    ## Your code here\n",
    "    summ = np.zeros_like(a)\n",
    "    \n",
    "    for i in range(len(a)):\n",
    "        summ[i] = a[i]+b[i]\n",
    "    summ = np.square(summ)\n",
    "    summ = summ.sum()\n",
    "    distance = np.sqrt(summ)\n",
    "    return distance\n",
    "\n",
    "def cal_manhattan(a, b):    \n",
    "    ## Your code here\n",
    "    diff = np.zeros_like(a)\n",
    "    \n",
    "    for i in range(len(a)):\n",
    "        diff[i] = a[i]-b[i]\n",
    "        diff = np.absolute(diff)\n",
    "        distance = diff.sum()\n",
    "    return distance\n",
    "\n",
    "def cal_cosine(a, b):    \n",
    "    ## Your code here\n",
    "    summ = dot(a,b)\n",
    "    a = np.square(a)\n",
    "    a = a.sum()\n",
    "    a = np.sqrt(a)\n",
    "    b = np.square(b)\n",
    "    b = b.sum()\n",
    "    b = np.sqrt(b) \n",
    "    distance =  1 - np.absolute(summ/(a*b)) #рассчитано по формуле из задания, \n",
    "    #только проставила модуль, т.к. если подмодульное выражение отрицательное, то получается значение больше единицы, что неверно\n",
    "            \n",
    "    return distance\n",
    "\n",
    "a = np.random.randint(-10, 10, size=10)\n",
    "b = np.random.randint(-10, 10, size=10)\n",
    "print(cal_euclidean(a, b))\n",
    "print(cal_manhattan(a, b))\n",
    "print(cal_cosine(a, b))\n",
    "print(dot(a, b)/(norm(a)*norm(b))) #расчет по формуле из википедии, ссылка в следующем окне\n"
   ]
  },
  {
   "cell_type": "code",
   "execution_count": 63,
   "id": "e7417b19",
   "metadata": {},
   "outputs": [],
   "source": [
    "#https://translated.turbopages.org/proxy_u/en-ru.ru.df3d10b6-61d9455c-2361e964-74722d776562/https/en.wikipedia.org/wiki/Cosine_distance"
   ]
  },
  {
   "cell_type": "code",
   "execution_count": 24,
   "id": "01fe2d48",
   "metadata": {},
   "outputs": [
    {
     "name": "stdout",
     "output_type": "stream",
     "text": [
      "0.983251808385949 0.0025710369311526815\n",
      "[0.63731243 0.03862375 0.70445364 0.12540164 0.45533749 0.68483543\n",
      " 0.9646775  0.33216231 0.65714907 0.23454881 0.45615115 0.58065974\n",
      " 0.67660067 0.09933144 0.5023018  0.23266424 0.57595545 0.03491975\n",
      " 0.14860127 0.00257104 0.60921494 0.43110764 0.58254285 0.46294589\n",
      " 0.93210997 0.15782431 0.69941668 0.0815313  0.67689065 0.24586522\n",
      " 0.60557902 0.98027888 0.9315292  0.98325181 0.93495807 0.09470608\n",
      " 0.50858474 0.51769461 0.69742333 0.6491904  0.59841479 0.35330089\n",
      " 0.68624645 0.69826113 0.52257961 0.31438827 0.57484462 0.38401905\n",
      " 0.79565516 0.63778734 0.54617147 0.80054286 0.8575889  0.41849348\n",
      " 0.61177647 0.64483934 0.71968862 0.53389119 0.09028022 0.7536562\n",
      " 0.54502717 0.46053981 0.45661129 0.02195983 0.739094   0.47795461\n",
      " 0.36027741 0.28328226 0.46914479 0.70269788 0.68803972 0.62770207\n",
      " 0.63156698 0.28289724 0.52754301 0.36398117 0.28018392 0.42500007\n",
      " 0.86148326 0.23015538 0.56556841 0.85858093 0.93375566 0.40974049\n",
      " 0.25544915 0.89958054 0.66783767 0.19924517 0.07659637 0.31649977\n",
      " 0.78554866 0.81631234 0.49425581 0.40864001 0.87201559 0.02157571\n",
      " 0.72897128 0.92535087 0.52898116 0.0119685 ]\n"
     ]
    }
   ],
   "source": [
    "#Задача 5\n",
    "import numpy as np\n",
    "\n",
    "my_array = np.random.rand(100) #Данная функция создает массив указанной формы \n",
    "#и заполняет его случайными числами с плавающей точкой, которые равномерно распределены в интервале [0, 1), его не надо видоизменять\n",
    "print(np.max(my_array), np.min(my_array))\n",
    "print(my_array)"
   ]
  },
  {
   "cell_type": "code",
   "execution_count": 37,
   "id": "b087d90d",
   "metadata": {},
   "outputs": [
    {
     "name": "stdout",
     "output_type": "stream",
     "text": [
      "Shape:  (5, 6)\n",
      "Array\n",
      "[[32  0 20 10 19  5]\n",
      " [ 3  2 25  5 16 10]\n",
      " [40 16 23  3 21 27]\n",
      " [25 17 40 12 43 28]\n",
      " [43  9 13 47 32 31]]\n",
      "[10  5  3 12 47]\n"
     ]
    }
   ],
   "source": [
    "import numpy as np\n",
    "my_array = np.random.randint(0, 50, (5, 6)) ## Your code here\n",
    "max = np.max(my_array)\n",
    "selected_column = np.empty((5,1))\n",
    "for i in range(6):\n",
    "    for j in range(5):\n",
    "        if my_array[j,i] == max:\n",
    "            selected_column = my_array[:,i]\n",
    "\n",
    "print('Shape: ',my_array.shape)\n",
    "print('Array')\n",
    "print(my_array)\n",
    "print(selected_column)"
   ]
  },
  {
   "cell_type": "code",
   "execution_count": 111,
   "id": "72e0c71f",
   "metadata": {},
   "outputs": [
    {
     "name": "stdout",
     "output_type": "stream",
     "text": [
      "[[4 4 4]\n",
      " [5 4 5]\n",
      " [4 4 4]\n",
      " [4 5 5]\n",
      " [5 4 4]\n",
      " [5 5 4]\n",
      " [4 4 5]\n",
      " [5 4 5]\n",
      " [4 4 5]\n",
      " [5 4 4]]\n",
      "[[4 4 4]\n",
      " [4 4 5]\n",
      " [4 5 5]\n",
      " [5 4 4]\n",
      " [5 4 5]\n",
      " [5 5 4]]\n"
     ]
    }
   ],
   "source": [
    "import numpy as np\n",
    "def get_unique_rows(X):\n",
    "    shape = X.shape #последовательность  \n",
    "    X_unique = np.unique(X, axis=0)                  \n",
    "    return X_unique\n",
    "X = np.random.randint(4, 6, size=(10,3))\n",
    "print(X)\n",
    "\n",
    "\n",
    "print(get_unique_rows(X))"
   ]
  },
  {
   "cell_type": "code",
   "execution_count": null,
   "id": "591d82ee",
   "metadata": {},
   "outputs": [],
   "source": []
  },
  {
   "cell_type": "code",
   "execution_count": null,
   "id": "264fe483",
   "metadata": {},
   "outputs": [],
   "source": []
  }
 ],
 "metadata": {
  "kernelspec": {
   "display_name": "Python 3",
   "language": "python",
   "name": "python3"
  },
  "language_info": {
   "codemirror_mode": {
    "name": "ipython",
    "version": 3
   },
   "file_extension": ".py",
   "mimetype": "text/x-python",
   "name": "python",
   "nbconvert_exporter": "python",
   "pygments_lexer": "ipython3",
   "version": "3.8.8"
  }
 },
 "nbformat": 4,
 "nbformat_minor": 5
}
