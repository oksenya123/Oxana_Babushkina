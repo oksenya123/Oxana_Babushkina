{
 "cells": [
  {
   "cell_type": "code",
   "execution_count": 5,
   "id": "3bc1e5ee",
   "metadata": {},
   "outputs": [],
   "source": [
    "#Задача 1\n",
    "def share_bread(N, K):\n",
    "    # your code here\n",
    "    x = K//N\n",
    "    y = K%N\n",
    "    return x, y\n",
    "\n",
    "# если в функции всё верно, то после выполнения этой строчки, не должно выскакивать ошибок\n",
    "assert share_bread(N=3, K=14) == (4, 2)"
   ]
  },
  {
   "cell_type": "code",
   "execution_count": 38,
   "id": "6c203c0f",
   "metadata": {},
   "outputs": [
    {
     "name": "stdout",
     "output_type": "stream",
     "text": [
      "YOU SHALL NOT PASS\n"
     ]
    }
   ],
   "source": [
    "#Задача 2\n",
    "#если его номер кратен 4, но не кратен 100, а также если он кратен 400\n",
    "def leap_year(year):\n",
    "    # your code here\n",
    "    text_result = 'YOU SHALL NOT PASS'\n",
    "    if year % 100 == 0:\n",
    "        if year%400 == 0: text_result = 'YOU SHALL PASS'\n",
    "    elif year % 4 == 0: text_result = 'YOU SHALL PASS'\n",
    "    return text_result\n",
    "\n",
    "assert leap_year(5) == 'YOU SHALL NOT PASS'"
   ]
  },
  {
   "cell_type": "code",
   "execution_count": 46,
   "id": "dbe0c15c",
   "metadata": {},
   "outputs": [],
   "source": [
    "#Задача 3\n",
    "from math import sqrt\n",
    "def amulet_area(a, b, c):\n",
    "    # your code here\n",
    "    p = (a+b+c)/2\n",
    "    S = sqrt(p*(p-a)*(p-b)*(p-c))\n",
    "    return S\n",
    "\n",
    "assert amulet_area(3, 4, 5) == 6"
   ]
  },
  {
   "cell_type": "code",
   "execution_count": 9,
   "id": "15f6470c",
   "metadata": {},
   "outputs": [
    {
     "name": "stdout",
     "output_type": "stream",
     "text": [
      "13.92838827718412\n",
      "42\n",
      "0.3941273728776353\n",
      "42.0\n",
      "0.3941273728776353\n"
     ]
    }
   ],
   "source": [
    "#Задача 4\n",
    "import numpy as np\n",
    "from numpy import dot\n",
    "from numpy.linalg import norm\n",
    "\n",
    "def cal_euclidean(a, b):\n",
    "    distance = np.sqrt(np.sum(np.square(a-b)))\n",
    "    return distance\n",
    "\n",
    "def cal_manhattan(a, b):    \n",
    "    ## Your code here\n",
    "    distance = np.sum(np.abs(a-b))\n",
    "    return distance\n",
    "\n",
    "def cal_cosine(a, b):    \n",
    "    distance = dot(a, b)/(norm(a)*norm(b))\n",
    "    return distance\n",
    "\n",
    "a = np.random.randint(-10, 10, size=10)\n",
    "b = np.random.randint(-10, 10, size=10)\n",
    "print(cal_euclidean(a, b))\n",
    "print(cal_manhattan(a, b))\n",
    "print(cal_cosine(a, b))\n",
    "#расчет по формуле из википедии, ссылка в следующем окне\n",
    "print(np.linalg.norm(a-b,ord=1)) #расстояние манхэттена проверка\n",
    "print(np.dot(a,b)/(np.linalg.norm(a)*(np.linalg.norm(b))))  #косинусное расстояние проверка"
   ]
  },
  {
   "cell_type": "code",
   "execution_count": 63,
   "id": "e7417b19",
   "metadata": {},
   "outputs": [],
   "source": [
    "#https://translated.turbopages.org/proxy_u/en-ru.ru.df3d10b6-61d9455c-2361e964-74722d776562/https/en.wikipedia.org/wiki/Cosine_distance"
   ]
  },
  {
   "cell_type": "code",
   "execution_count": 17,
   "id": "01fe2d48",
   "metadata": {},
   "outputs": [
    {
     "name": "stdout",
     "output_type": "stream",
     "text": [
      "1.0 0.0\n",
      "[0.86524292 0.92040903 0.39413437 0.9211428  0.06012251 0.23298383\n",
      " 0.18164576 0.35324713 0.10692154 0.49426293 0.5034617  0.92819728\n",
      " 0.61356302 0.14285619 0.63757879 0.61586881 0.55074567 0.43423638\n",
      " 0.03544282 0.53593359 0.88690541 0.93107109 0.0534636  0.93486671\n",
      " 0.91635468 0.78830534 0.52106875 0.83840091 0.06024105 0.21810762\n",
      " 0.2488857  0.22646208 0.6010938  0.94154456 0.47334222 0.46355142\n",
      " 0.37265398 0.67033744 0.37478011 0.88322643 0.44922121 0.71169428\n",
      " 0.07461076 0.59293358 0.         0.89436072 0.27172513 0.38926535\n",
      " 0.22684926 0.1165817  0.79850443 0.92033114 0.6007111  0.37512154\n",
      " 0.22474634 0.39805334 0.61587851 0.29471181 0.5484499  0.36731132\n",
      " 0.79068527 0.94654867 0.60401648 0.78088984 0.48564707 0.02299286\n",
      " 0.43687936 0.35461536 0.26057741 0.83991246 0.02971814 0.03824927\n",
      " 0.2268725  0.4358327  0.82690759 0.63466647 0.07379441 0.4265878\n",
      " 0.41351643 0.19946665 0.19456648 0.15228939 0.51842167 0.81327133\n",
      " 0.42418995 0.44422922 0.85853286 0.3209548  1.         0.86583975\n",
      " 0.5731071  0.39305614 0.58973606 0.17143593 0.33544775 0.70338823\n",
      " 0.24357499 0.49621596 0.28317663 0.32465879]\n"
     ]
    }
   ],
   "source": [
    "#Задача 5\n",
    "import numpy as np\n",
    "\n",
    "my_array = np.random.rand(100) #Данная функция создает массив указанной формы \n",
    "#и заполняет его случайными числами с плавающей точкой, которые равномерно распределены в интервале [0, 1)\n",
    "my_array[np.argmax(my_array)] = 1\n",
    "my_array[np.argmin(my_array)] = 0\n",
    "print(np.max(my_array), np.min(my_array))\n",
    "print(my_array)"
   ]
  },
  {
   "cell_type": "code",
   "execution_count": 23,
   "id": "b087d90d",
   "metadata": {},
   "outputs": [
    {
     "name": "stdout",
     "output_type": "stream",
     "text": [
      "Shape:  (5, 6)\n",
      "Array\n",
      "[[25 15 37 34 26 16]\n",
      " [45 16  7 18 46 38]\n",
      " [49  4 45  6 33 42]\n",
      " [42 22 16 46 27 22]\n",
      " [24  5 31 23 14 47]]\n",
      "[25 45 49 42 24]\n"
     ]
    }
   ],
   "source": [
    "import numpy as np\n",
    "my_array = np.random.randint(0, 50, (5, 6)) ## Your code here\n",
    "max = np.max(my_array)\n",
    "selected_column = np.empty((5,1))\n",
    "for i in range(6):\n",
    "    for j in range(5):\n",
    "        if my_array[j,i] == max:\n",
    "            selected_column = my_array[:,i]\n",
    "\n",
    "print('Shape: ',my_array.shape)\n",
    "print('Array')\n",
    "print(my_array)\n",
    "print(selected_column)"
   ]
  },
  {
   "cell_type": "code",
   "execution_count": 111,
   "id": "72e0c71f",
   "metadata": {},
   "outputs": [
    {
     "name": "stdout",
     "output_type": "stream",
     "text": [
      "[[4 4 4]\n",
      " [5 4 5]\n",
      " [4 4 4]\n",
      " [4 5 5]\n",
      " [5 4 4]\n",
      " [5 5 4]\n",
      " [4 4 5]\n",
      " [5 4 5]\n",
      " [4 4 5]\n",
      " [5 4 4]]\n",
      "[[4 4 4]\n",
      " [4 4 5]\n",
      " [4 5 5]\n",
      " [5 4 4]\n",
      " [5 4 5]\n",
      " [5 5 4]]\n"
     ]
    }
   ],
   "source": [
    "import numpy as np\n",
    "def get_unique_rows(X):\n",
    "    shape = X.shape #последовательность  \n",
    "    X_unique = np.unique(X, axis=0)                  \n",
    "    return X_unique\n",
    "X = np.random.randint(4, 6, size=(10,3))\n",
    "print(X)\n",
    "\n",
    "\n",
    "print(get_unique_rows(X))"
   ]
  },
  {
   "cell_type": "code",
   "execution_count": null,
   "id": "591d82ee",
   "metadata": {},
   "outputs": [],
   "source": []
  },
  {
   "cell_type": "code",
   "execution_count": null,
   "id": "264fe483",
   "metadata": {},
   "outputs": [],
   "source": []
  }
 ],
 "metadata": {
  "kernelspec": {
   "display_name": "Python 3",
   "language": "python",
   "name": "python3"
  },
  "language_info": {
   "codemirror_mode": {
    "name": "ipython",
    "version": 3
   },
   "file_extension": ".py",
   "mimetype": "text/x-python",
   "name": "python",
   "nbconvert_exporter": "python",
   "pygments_lexer": "ipython3",
   "version": "3.8.8"
  }
 },
 "nbformat": 4,
 "nbformat_minor": 5
}
